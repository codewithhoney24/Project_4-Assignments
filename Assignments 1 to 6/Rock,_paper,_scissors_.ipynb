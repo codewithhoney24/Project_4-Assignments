{
  "nbformat": 4,
  "nbformat_minor": 0,
  "metadata": {
    "colab": {
      "provenance": [],
      "authorship_tag": "ABX9TyMy0nZDDMYuSwUzvmi35+Z3",
      "include_colab_link": true
    },
    "kernelspec": {
      "name": "python3",
      "display_name": "Python 3"
    },
    "language_info": {
      "name": "python"
    }
  },
  "cells": [
    {
      "cell_type": "markdown",
      "metadata": {
        "id": "view-in-github",
        "colab_type": "text"
      },
      "source": [
        "<a href=\"https://colab.research.google.com/github/codewithhoney24/Project_4-Assignments/blob/main/Assignments%201%20to%206/Rock%2C_paper%2C_scissors_.ipynb\" target=\"_parent\"><img src=\"https://colab.research.google.com/assets/colab-badge.svg\" alt=\"Open In Colab\"/></a>"
      ]
    },
    {
      "cell_type": "markdown",
      "source": [
        "# ***Rock, paper, scissors Python Project***"
      ],
      "metadata": {
        "id": "3MYITJhvwoMa"
      }
    },
    {
      "cell_type": "code",
      "source": [
        "import random\n",
        "\n",
        "def play_rps():\n",
        "    print(\"Welcome to the Rock, Paper, Scissors Game!\")\n",
        "    print(\"In this Kylie Ying tutorial, you will work with random.choice(), if statements, and getting user input. This is a great project to help you build on the fundamentals like conditionals and functions.\")\n",
        "\n",
        "    choices = [\"rock\", \"paper\", \"scissors\"]\n",
        "\n",
        "    while True:\n",
        "        user_choice = input(\"Enter rock, paper, or scissors (or 'quit' to exit): \").lower()\n",
        "\n",
        "        if user_choice == \"quit\":\n",
        "            print(\"Thanks for playing! Goodbye.\")\n",
        "            break\n",
        "\n",
        "        if user_choice not in choices:\n",
        "            print(\"Invalid choice. Please enter rock, paper, or scissors.\")\n",
        "            continue\n",
        "\n",
        "        computer_choice = random.choice(choices)\n",
        "        print(f\"Computer chose: {computer_choice}\")\n",
        "\n",
        "        if user_choice == computer_choice:\n",
        "            print(\"It's a tie!\")\n",
        "        elif (user_choice == \"rock\" and computer_choice == \"scissors\") or \\\n",
        "             (user_choice == \"paper\" and computer_choice == \"rock\") or \\\n",
        "             (user_choice == \"scissors\" and computer_choice == \"paper\"):\n",
        "            print(\"You win!\")\n",
        "        else:\n",
        "            print(\"Computer wins!\")\n",
        "\n",
        "if __name__ == \"__main__\":\n",
        "    play_rps()\n"
      ],
      "metadata": {
        "colab": {
          "base_uri": "https://localhost:8080/"
        },
        "id": "ggsvMgivwsPt",
        "outputId": "e8ac480f-1e3c-47a8-f42f-8506f1f9d351"
      },
      "execution_count": null,
      "outputs": [
        {
          "output_type": "stream",
          "name": "stdout",
          "text": [
            "Welcome to the Rock, Paper, Scissors Game!\n",
            "In this Kylie Ying tutorial, you will work with random.choice(), if statements, and getting user input. This is a great project to help you build on the fundamentals like conditionals and functions.\n",
            "Enter rock, paper, or scissors (or 'quit' to exit): rock\n",
            "Computer chose: scissors\n",
            "You win!\n",
            "Enter rock, paper, or scissors (or 'quit' to exit): scissors\n",
            "Computer chose: rock\n",
            "Computer wins!\n",
            "Enter rock, paper, or scissors (or 'quit' to exit): exit\n",
            "Invalid choice. Please enter rock, paper, or scissors.\n"
          ]
        }
      ]
    }
  ]
}