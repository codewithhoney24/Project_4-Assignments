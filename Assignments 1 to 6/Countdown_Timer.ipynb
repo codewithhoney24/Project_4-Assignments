{
  "nbformat": 4,
  "nbformat_minor": 0,
  "metadata": {
    "colab": {
      "provenance": [],
      "authorship_tag": "ABX9TyNfLY6YA62uNe+JFDCk6MDB",
      "include_colab_link": true
    },
    "kernelspec": {
      "name": "python3",
      "display_name": "Python 3"
    },
    "language_info": {
      "name": "python"
    }
  },
  "cells": [
    {
      "cell_type": "markdown",
      "metadata": {
        "id": "view-in-github",
        "colab_type": "text"
      },
      "source": [
        "<a href=\"https://colab.research.google.com/github/codewithhoney24/Project_4-Assignments/blob/main/Assignments%201%20to%206/Countdown_Timer.ipynb\" target=\"_parent\"><img src=\"https://colab.research.google.com/assets/colab-badge.svg\" alt=\"Open In Colab\"/></a>"
      ]
    },
    {
      "cell_type": "markdown",
      "source": [
        "# **Countdown Timer Python Project**"
      ],
      "metadata": {
        "id": "Sw_ca6mU6wf5"
      }
    },
    {
      "cell_type": "code",
      "source": [
        "import time\n",
        "from IPython.display import clear_output\n",
        "\n",
        "def countdown_timer(seconds):\n",
        "    for remaining in range(seconds, 0, -1):\n",
        "        clear_output(wait=True)  # Clears the previous output\n",
        "        mins, secs = divmod(remaining, 60)\n",
        "        timer = f\"{mins:02}:{secs:02}\"\n",
        "        print(f\"⏳ Countdown: {timer}\")\n",
        "        time.sleep(1)\n",
        "\n",
        "    clear_output(wait=True)\n",
        "    print(\"⏰ Time's up!\")\n",
        "\n",
        "# User Input for the timer duration\n",
        "try:\n",
        "    total_seconds = int(input(\"Enter time in seconds: \"))\n",
        "    countdown_timer(total_seconds)\n",
        "except ValueError:\n",
        "    print(\"Please enter a valid number!\")\n"
      ],
      "metadata": {
        "colab": {
          "base_uri": "https://localhost:8080/"
        },
        "id": "iPcUQaa67tbV",
        "outputId": "dca69170-9525-4685-9e39-e22695bdfa46"
      },
      "execution_count": null,
      "outputs": [
        {
          "output_type": "stream",
          "name": "stdout",
          "text": [
            "⏰ Time's up!\n"
          ]
        }
      ]
    }
  ]
}