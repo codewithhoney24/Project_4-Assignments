{
  "nbformat": 4,
  "nbformat_minor": 0,
  "metadata": {
    "colab": {
      "provenance": [],
      "authorship_tag": "ABX9TyOwFExeLPpUcx52PVYPD5Oj",
      "include_colab_link": true
    },
    "kernelspec": {
      "name": "python3",
      "display_name": "Python 3"
    },
    "language_info": {
      "name": "python"
    }
  },
  "cells": [
    {
      "cell_type": "markdown",
      "metadata": {
        "id": "view-in-github",
        "colab_type": "text"
      },
      "source": [
        "<a href=\"https://colab.research.google.com/github/codewithhoney24/Project_4-Assignments/blob/main/Assignments%201%20to%206/Password_Generator.ipynb\" target=\"_parent\"><img src=\"https://colab.research.google.com/assets/colab-badge.svg\" alt=\"Open In Colab\"/></a>"
      ]
    },
    {
      "cell_type": "markdown",
      "source": [
        "# **Password Generator Python Project**\n"
      ],
      "metadata": {
        "id": "LMms8jgmv6WG"
      }
    },
    {
      "cell_type": "code",
      "source": [
        "import random\n",
        "import string\n",
        "\n",
        "def generate_password(length, use_letters, use_numbers, use_specials):\n",
        "    characters = \"\"\n",
        "\n",
        "    if use_letters:\n",
        "        characters += string.ascii_letters\n",
        "    if use_numbers:\n",
        "        characters += string.digits\n",
        "    if use_specials:\n",
        "        characters += string.punctuation\n",
        "\n",
        "    if not characters:  # If no character type is selected\n",
        "        print(\"❌ Please select at least one character type!\")\n",
        "        return None\n",
        "\n",
        "    return ''.join(random.choice(characters) for _ in range(length))\n",
        "\n",
        "def password_generator():\n",
        "    print(\"🔒 Welcome to the Password Generator!\")\n",
        "\n",
        "    try:\n",
        "        num_passwords = int(input(\"Enter the number of passwords to generate: \"))\n",
        "        length = int(input(\"Enter the length of each password: \"))\n",
        "\n",
        "        if num_passwords <= 0 or length <= 0:\n",
        "            print(\"❌ Please enter positive numbers!\")\n",
        "            return\n",
        "\n",
        "        use_letters = input(\"Include letters? (y/n): \").strip().lower() == \"y\"\n",
        "        use_numbers = input(\"Include numbers? (y/n): \").strip().lower() == \"y\"\n",
        "        use_specials = input(\"Include special characters? (y/n): \").strip().lower() == \"y\"\n",
        "\n",
        "        if not (use_letters or use_numbers or use_specials):\n",
        "            print(\"❌ You must select at least one character type!\")\n",
        "            return\n",
        "\n",
        "        print(\"\\n🔑 **Generated Passwords:**\")\n",
        "        for i in range(num_passwords):\n",
        "            password = generate_password(length, use_letters, use_numbers, use_specials)\n",
        "            if password:\n",
        "                print(f\"{i+1}: {password}\")\n",
        "\n",
        "    except ValueError:\n",
        "        print(\"❌ Invalid input! Please enter numbers.\")\n",
        "\n",
        "# Run the password generator in Google Colab\n",
        "password_generator()\n"
      ],
      "metadata": {
        "colab": {
          "base_uri": "https://localhost:8080/"
        },
        "id": "K2IWMp8PxTu_",
        "outputId": "a9ecd209-82b6-4ed8-8865-cb2de50ff86c"
      },
      "execution_count": null,
      "outputs": [
        {
          "output_type": "stream",
          "name": "stdout",
          "text": [
            "🔒 Welcome to the Password Generator!\n",
            "Enter the number of passwords to generate: 6\n",
            "Enter the length of each password: 10\n",
            "Include letters? (y/n): y\n",
            "Include numbers? (y/n): y\n",
            "Include special characters? (y/n): y\n",
            "\n",
            "🔑 **Generated Passwords:**\n",
            "1: sjF*0+e\"F\"\n",
            "2: QTsW1E|/Yu\n",
            "3: &jN*n,QNM(\n",
            "4: %a3(hgiH+m\n",
            "5: GDG!)rAgtj\n",
            "6: c`F0.si}Fg\n"
          ]
        }
      ]
    }
  ]
}