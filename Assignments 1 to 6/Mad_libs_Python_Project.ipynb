{
  "nbformat": 4,
  "nbformat_minor": 0,
  "metadata": {
    "colab": {
      "provenance": [],
      "toc_visible": true,
      "authorship_tag": "ABX9TyMvhbFZk6PQqTbEir63F+RG",
      "include_colab_link": true
    },
    "kernelspec": {
      "name": "python3",
      "display_name": "Python 3"
    },
    "language_info": {
      "name": "python"
    }
  },
  "cells": [
    {
      "cell_type": "markdown",
      "metadata": {
        "id": "view-in-github",
        "colab_type": "text"
      },
      "source": [
        "<a href=\"https://colab.research.google.com/github/codewithhoney24/Project_4-Assignments/blob/main/Assignments%201%20to%206/Mad_libs_Python_Project.ipynb\" target=\"_parent\"><img src=\"https://colab.research.google.com/assets/colab-badge.svg\" alt=\"Open In Colab\"/></a>"
      ]
    },
    {
      "cell_type": "markdown",
      "source": [
        "# **Mad libs Game in Python**"
      ],
      "metadata": {
        "id": "QHqFAA4F1z3w"
      }
    },
    {
      "cell_type": "code",
      "source": [
        "# User input\n",
        "name = input(\"Enter the hero's name: \")\n",
        "city = input(\"Enter a city name: \")\n",
        "dream = input(\"Enter a big dream (e.g., astronaut, AI engineer, entrepreneur): \")\n",
        "mentor = input(\"Enter a mentor's name: \")\n",
        "\n",
        "# Story creation\n",
        "print(\"\\nHere is a new story based on the Mad Libs game!\\n\")\n",
        "print(f\"Once upon a time, in the busy streets of {city}, there lived a young dreamer named {name}.\")\n",
        "print(f\"{name} always had a burning passion to become a {dream} and change the world!\")\n",
        "print(f\"But the journey wasn't easy. {name} faced many challenges and failures along the way.\")\n",
        "print(f\"One day, {name} met an inspiring mentor named {mentor}, who believed in {name}'s potential.\")\n",
        "print(f\"With {mentor}'s guidance, hard work, and persistence, {name} took one step closer to achieving their dream.\")\n",
        "print(\"And so, the adventure continued... with new challenges, learning, and victories!\")\n",
        "\n"
      ],
      "metadata": {
        "colab": {
          "base_uri": "https://localhost:8080/"
        },
        "id": "qeUQHgij12s-",
        "outputId": "e6d705ce-6210-44c1-e1df-cecdfa7e4145"
      },
      "execution_count": 1,
      "outputs": [
        {
          "output_type": "stream",
          "name": "stdout",
          "text": [
            "Enter the hero's name: little rebort\n",
            "Enter a city name: karachi\n",
            "Enter a big dream (e.g., astronaut, AI engineer, entrepreneur): AI engineer\n",
            "Enter a mentor's name: sir zia\n",
            "\n",
            "Here is a new story based on the Mad Libs game!\n",
            "\n",
            "Once upon a time, in the busy streets of karachi, there lived a young dreamer named little rebort.\n",
            "little rebort always had a burning passion to become a AI engineer and change the world!\n",
            "But the journey wasn't easy. little rebort faced many challenges and failures along the way.\n",
            "One day, little rebort met an inspiring mentor named sir zia, who believed in little rebort's potential.\n",
            "With sir zia's guidance, hard work, and persistence, little rebort took one step closer to achieving their dream.\n",
            "And so, the adventure continued... with new challenges, learning, and victories!\n"
          ]
        }
      ]
    }
  ]
}