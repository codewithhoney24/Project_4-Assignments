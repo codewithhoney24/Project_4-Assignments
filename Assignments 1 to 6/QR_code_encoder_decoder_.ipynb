{
  "nbformat": 4,
  "nbformat_minor": 0,
  "metadata": {
    "colab": {
      "provenance": [],
      "authorship_tag": "ABX9TyPDSh0vdO8poxGS9JxKfccQ",
      "include_colab_link": true
    },
    "kernelspec": {
      "name": "python3",
      "display_name": "Python 3"
    },
    "language_info": {
      "name": "python"
    }
  },
  "cells": [
    {
      "cell_type": "markdown",
      "metadata": {
        "id": "view-in-github",
        "colab_type": "text"
      },
      "source": [
        "<a href=\"https://colab.research.google.com/github/codewithhoney24/Project_4-Assignments/blob/main/Assignments%201%20to%206/QR_code_encoder_decoder_.ipynb\" target=\"_parent\"><img src=\"https://colab.research.google.com/assets/colab-badge.svg\" alt=\"Open In Colab\"/></a>"
      ]
    },
    {
      "cell_type": "markdown",
      "source": [
        "# **QR code encoder / decoder Python Project**"
      ],
      "metadata": {
        "id": "lu0LXjk52ibG"
      }
    },
    {
      "cell_type": "code",
      "source": [
        "!pip install qrcode opencv-python pillow numpy\n",
        "\n",
        "import qrcode\n",
        "import cv2\n",
        "import numpy as np\n",
        "from google.colab.patches import cv2_imshow\n",
        "\n",
        "def generate_qr_code(data, filename=\"qrcode\", file_format=\"png\"):\n",
        "    \"\"\"\n",
        "    Generates a QR code with green color and saves it in the specified format.\n",
        "    \"\"\"\n",
        "    qr = qrcode.QRCode(\n",
        "        version=1,  # Controls the size of the QR code\n",
        "        error_correction=qrcode.constants.ERROR_CORRECT_L,\n",
        "        box_size=10,\n",
        "        border=4,\n",
        "    )\n",
        "    qr.add_data(data)\n",
        "    qr.make(fit=True)\n",
        "\n",
        "    # Create QR code with green color\n",
        "    img = qr.make_image(fill_color=\"green\", back_color=\"white\")\n",
        "\n",
        "    # Save QR Code in user-selected format\n",
        "    filename = f\"{filename}.{file_format}\"\n",
        "    img.save(filename)\n",
        "    print(f\"✅ QR Code saved as {filename}\")\n",
        "\n",
        "    return filename\n",
        "\n",
        "def decode_qr_code(filename=\"qrcode.png\"):\n",
        "    \"\"\"\n",
        "    Decodes a QR code image and prints the extracted data.\n",
        "    \"\"\"\n",
        "    img = cv2.imread(filename)\n",
        "    detector = cv2.QRCodeDetector()\n",
        "    data, _, _ = detector.detectAndDecode(img)\n",
        "\n",
        "    if data:\n",
        "        print(\"✅ Decoded QR Code Data:\", data)\n",
        "    else:\n",
        "        print(\"❌ No QR Code detected!\")\n",
        "\n",
        "# User Input for QR Code\n",
        "text = input(\"Enter text to encode in QR Code: \")\n",
        "file_format = input(\"Enter file format (png/jpg): \").strip().lower()\n",
        "\n",
        "if file_format not in [\"png\", \"jpg\"]:\n",
        "    print(\"❌ Invalid format! Defaulting to PNG.\")\n",
        "    file_format = \"png\"\n",
        "\n",
        "filename = generate_qr_code(text, file_format=file_format)\n",
        "\n",
        "# Display the generated QR Code in Google Colab\n",
        "img = cv2.imread(filename)\n",
        "cv2_imshow(img)\n",
        "\n",
        "# Decode the QR Code\n",
        "decode_qr_code(filename)\n"
      ],
      "metadata": {
        "colab": {
          "base_uri": "https://localhost:8080/",
          "height": 446
        },
        "id": "bEOw1rlT4thV",
        "outputId": "79b579d4-db40-4069-90ed-9af34b242108"
      },
      "execution_count": 5,
      "outputs": [
        {
          "output_type": "stream",
          "name": "stdout",
          "text": [
            "Requirement already satisfied: qrcode in /usr/local/lib/python3.11/dist-packages (8.0)\n",
            "Requirement already satisfied: opencv-python in /usr/local/lib/python3.11/dist-packages (4.11.0.86)\n",
            "Requirement already satisfied: pillow in /usr/local/lib/python3.11/dist-packages (11.1.0)\n",
            "Requirement already satisfied: numpy in /usr/local/lib/python3.11/dist-packages (2.0.2)\n",
            "Enter text to encode in QR Code: hello123\n",
            "Enter file format (png/jpg): jpg\n",
            "✅ QR Code saved as qrcode.jpg\n"
          ]
        },
        {
          "output_type": "display_data",
          "data": {
            "text/plain": [
              "<PIL.Image.Image image mode=RGB size=290x290>"
            ],
            "image/png": "[encoded data removed]",
            "image/jpeg": "[encoded data removed]"
          },
          "metadata": {}
        },
        {
          "output_type": "stream",
          "name": "stdout",
          "text": [
            "✅ Decoded QR Code Data: hello123\n"
          ]
        }
      ]
    }
  ]
}