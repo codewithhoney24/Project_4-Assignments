{
  "nbformat": 4,
  "nbformat_minor": 0,
  "metadata": {
    "colab": {
      "provenance": [],
      "authorship_tag": "ABX9TyNgEwLDDlzZ+hHDPdNcqi5F",
      "include_colab_link": true
    },
    "kernelspec": {
      "name": "python3",
      "display_name": "Python 3"
    },
    "language_info": {
      "name": "python"
    }
  },
  "cells": [
    {
      "cell_type": "markdown",
      "metadata": {
        "id": "view-in-github",
        "colab_type": "text"
      },
      "source": [
        "<a href=\"https://colab.research.google.com/github/codewithhoney24/Project_4-Assignments/blob/main/Assignments%201%20to%206/Guess%20the%20Number.ipynb\" target=\"_parent\"><img src=\"https://colab.research.google.com/assets/colab-badge.svg\" alt=\"Open In Colab\"/></a>"
      ]
    },
    {
      "cell_type": "markdown",
      "source": [
        "# ***Guess the Number Game Python Project (user)***\n"
      ],
      "metadata": {
        "id": "E0VO-Pq6YsqM"
      }
    },
    {
      "cell_type": "code",
      "source": [
        "import random\n",
        "\n",
        "def guess_the_number():\n",
        "    print(\"Welcome to the Guess the Number Game!\")\n",
        "    lower_bound = int(input(\"Enter the lower bound: \"))\n",
        "    upper_bound = int(input(\"Enter the upper bound: \"))\n",
        "\n",
        "    if lower_bound > upper_bound:\n",
        "        lower_bound, upper_bound = upper_bound, lower_bound\n",
        "        print(f\"Bounds swapped! New range: {lower_bound} to {upper_bound}\")\n",
        "\n",
        "    number_to_guess = random.randint(lower_bound, upper_bound)\n",
        "    attempts = 0\n",
        "\n",
        "    while True:\n",
        "        try:\n",
        "            user_guess = int(input(\"Guess the number: \"))\n",
        "            attempts += 1\n",
        "\n",
        "            if user_guess < number_to_guess:\n",
        "                print(\"Too low! Try again.\")\n",
        "            elif user_guess > number_to_guess:\n",
        "                print(\"Too high! Try again.\")\n",
        "            else:\n",
        "                print(f\"Congratulations! You guessed the number {number_to_guess} in {attempts} attempts.\")\n",
        "                break\n",
        "        except ValueError:\n",
        "            print(\"Please enter a valid number.\")\n",
        "\n",
        "if __name__ == \"__main__\":\n",
        "    guess_the_number()\n"
      ],
      "metadata": {
        "colab": {
          "base_uri": "https://localhost:8080/"
        },
        "id": "EuYpsu1maQkH",
        "outputId": "b66ca557-dec5-4d03-de56-6cb5afc3bf0e"
      },
      "execution_count": 2,
      "outputs": [
        {
          "output_type": "stream",
          "name": "stdout",
          "text": [
            "Welcome to the Guess the Number Game!\n",
            "Enter the lower bound: 21\n",
            "Enter the upper bound: 54\n",
            "Guess the number: 43\n",
            "Congratulations! You guessed the number 43 in 1 attempts.\n"
          ]
        }
      ]
    }
  ]
}