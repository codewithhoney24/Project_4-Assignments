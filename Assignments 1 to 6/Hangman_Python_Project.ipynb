{
  "nbformat": 4,
  "nbformat_minor": 0,
  "metadata": {
    "colab": {
      "provenance": [],
      "authorship_tag": "ABX9TyM/JvYSLGWRcGwVvwlHTLMI",
      "include_colab_link": true
    },
    "kernelspec": {
      "name": "python3",
      "display_name": "Python 3"
    },
    "language_info": {
      "name": "python"
    }
  },
  "cells": [
    {
      "cell_type": "markdown",
      "metadata": {
        "id": "view-in-github",
        "colab_type": "text"
      },
      "source": [
        "<a href=\"https://colab.research.google.com/github/codewithhoney24/Project_4-Assignments/blob/main/Assignments%201%20to%206/Hangman_Python_Project.ipynb\" target=\"_parent\"><img src=\"https://colab.research.google.com/assets/colab-badge.svg\" alt=\"Open In Colab\"/></a>"
      ]
    },
    {
      "cell_type": "markdown",
      "source": [
        "# ***Hangman Python Project***\n"
      ],
      "metadata": {
        "id": "-2SoHCHnyHt8"
      }
    },
    {
      "cell_type": "code",
      "source": [
        "import random\n",
        "\n",
        "def choose_word(category):\n",
        "    words = {\n",
        "        \"animals\": [\"elephant\", \"giraffe\", \"kangaroo\", \"dolphin\", \"penguin\"],\n",
        "        \"countries\": [\"canada\", \"brazil\", \"germany\", \"india\", \"japan\"],\n",
        "        \"programming\": [\"python\", \"javascript\", \"hangman\", \"developer\", \"programming\"]\n",
        "    }\n",
        "    return random.choice(words[category])\n",
        "\n",
        "def display_word(word, guessed_letters):\n",
        "    return \" \".join([letter if letter in guessed_letters else \"_\" for letter in word])\n",
        "\n",
        "def hangman():\n",
        "    print(\"Welcome to the Hangman Game!\")\n",
        "    print(\"In this Kylie Ying tutorial, you will learn how to work with dictionaries, lists, and nested if statements. You will also learn how to work with the string and random Python modules.\")\n",
        "\n",
        "    categories = [\"animals\", \"countries\", \"programming\"]\n",
        "    print(\"Choose a category:\")\n",
        "    for i, category in enumerate(categories, 1):\n",
        "        print(f\"{i}. {category.capitalize()}\")\n",
        "\n",
        "    while True:\n",
        "        try:\n",
        "            choice = int(input(\"Enter the number of your category: \"))\n",
        "            if 1 <= choice <= len(categories):\n",
        "                category = categories[choice - 1]\n",
        "                break\n",
        "            else:\n",
        "                print(\"Invalid choice, please select a valid category number.\")\n",
        "        except ValueError:\n",
        "            print(\"Please enter a valid number.\")\n",
        "\n",
        "    word = choose_word(category)\n",
        "    guessed_letters = set()\n",
        "    attempts = 6\n",
        "\n",
        "    while attempts > 0:\n",
        "        print(\"\\nWord: \", display_word(word, guessed_letters))\n",
        "        print(f\"Attempts left: {attempts}\")\n",
        "\n",
        "        guess = input(\"Guess a letter: \").lower()\n",
        "\n",
        "        if len(guess) != 1 or not guess.isalpha():\n",
        "            print(\"Invalid input. Please enter a single letter.\")\n",
        "            continue\n",
        "\n",
        "        if guess in guessed_letters:\n",
        "            print(\"You already guessed that letter!\")\n",
        "            continue\n",
        "\n",
        "        guessed_letters.add(guess)\n",
        "\n",
        "        if guess not in word:\n",
        "            attempts -= 1\n",
        "            print(\"Wrong guess!\")\n",
        "        else:\n",
        "            print(\"Good guess!\")\n",
        "\n",
        "        if all(letter in guessed_letters for letter in word):\n",
        "            print(\"\\nCongratulations! You guessed the word:\", word)\n",
        "            break\n",
        "    else:\n",
        "        print(\"\\nGame Over! The word was:\", word)\n",
        "\n",
        "if __name__ == \"__main__\":\n",
        "    hangman()\n"
      ],
      "metadata": {
        "colab": {
          "base_uri": "https://localhost:8080/"
        },
        "id": "uYPCbRQ30fcV",
        "outputId": "6110549a-aa04-4907-9481-1fcf572dcb93"
      },
      "execution_count": 3,
      "outputs": [
        {
          "output_type": "stream",
          "name": "stdout",
          "text": [
            "Welcome to the Hangman Game!\n",
            "In this Kylie Ying tutorial, you will learn how to work with dictionaries, lists, and nested if statements. You will also learn how to work with the string and random Python modules.\n",
            "Choose a category:\n",
            "1. Animals\n",
            "2. Countries\n",
            "3. Programming\n",
            "Enter the number of your category: animals\n",
            "Please enter a valid number.\n",
            "Enter the number of your category: 1\n",
            "\n",
            "Word:  _ _ _ _ _ _ _\n",
            "Attempts left: 6\n",
            "Guess a letter: e\n",
            "Good guess!\n",
            "\n",
            "Word:  _ e _ _ _ _ _\n",
            "Attempts left: 6\n",
            "Guess a letter: r\n",
            "Wrong guess!\n",
            "\n",
            "Word:  _ e _ _ _ _ _\n",
            "Attempts left: 5\n",
            "Guess a letter: e\n",
            "You already guessed that letter!\n",
            "\n",
            "Word:  _ e _ _ _ _ _\n",
            "Attempts left: 5\n",
            "Guess a letter: h\n",
            "Wrong guess!\n",
            "\n",
            "Word:  _ e _ _ _ _ _\n",
            "Attempts left: 4\n",
            "Guess a letter: c\n",
            "Wrong guess!\n",
            "\n",
            "Word:  _ e _ _ _ _ _\n",
            "Attempts left: 3\n",
            "Guess a letter: o\n",
            "Wrong guess!\n",
            "\n",
            "Word:  _ e _ _ _ _ _\n",
            "Attempts left: 2\n",
            "Guess a letter: d\n",
            "Wrong guess!\n",
            "\n",
            "Word:  _ e _ _ _ _ _\n",
            "Attempts left: 1\n",
            "Guess a letter: l\n",
            "Wrong guess!\n",
            "\n",
            "Game Over! The word was: penguin\n"
          ]
        }
      ]
    }
  ]
}