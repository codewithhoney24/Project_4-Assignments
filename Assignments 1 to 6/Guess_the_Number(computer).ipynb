{
  "nbformat": 4,
  "nbformat_minor": 0,
  "metadata": {
    "colab": {
      "provenance": [],
      "authorship_tag": "ABX9TyOTQ1Cc4vxln2GOnrCxIwBR",
      "include_colab_link": true
    },
    "kernelspec": {
      "name": "python3",
      "display_name": "Python 3"
    },
    "language_info": {
      "name": "python"
    }
  },
  "cells": [
    {
      "cell_type": "markdown",
      "metadata": {
        "id": "view-in-github",
        "colab_type": "text"
      },
      "source": [
        "<a href=\"https://colab.research.google.com/github/codewithhoney24/Project_4-Assignments/blob/main/Assignments%201%20to%206/Guess_the_Number(computer).ipynb\" target=\"_parent\"><img src=\"https://colab.research.google.com/assets/colab-badge.svg\" alt=\"Open In Colab\"/></a>"
      ]
    },
    {
      "cell_type": "markdown",
      "source": [
        "# ***Guess the Number Game Python Project (computer)***"
      ],
      "metadata": {
        "id": "xLBbVlAYsnNO"
      }
    },
    {
      "cell_type": "code",
      "source": [
        "import random\n",
        "\n",
        "def computer_guess():\n",
        "    print(\"Welcome to the Computer Guess the Number Game!\")\n",
        "    lower_bound = int(input(\"Enter the lower bound: \"))\n",
        "    upper_bound = int(input(\"Enter the upper bound: \"))\n",
        "\n",
        "    if lower_bound > upper_bound:\n",
        "        lower_bound, upper_bound = upper_bound, lower_bound  # Swap values if needed\n",
        "        print(f\"Bounds swapped! New range: {lower_bound} to {upper_bound}\")\n",
        "\n",
        "    attempts = 0\n",
        "    guessed_numbers = []\n",
        "\n",
        "    while True:\n",
        "        guess = random.randint(lower_bound, upper_bound)\n",
        "        while guess in guessed_numbers:\n",
        "            guess = random.randint(lower_bound, upper_bound)  # Ensure unique guess\n",
        "\n",
        "        guessed_numbers.append(guess)\n",
        "        attempts += 1\n",
        "        print(f\"Is it {guess}? (Enter 'h' if too high, 'l' if too low, 'c' if correct)\")\n",
        "\n",
        "        user_feedback = input(\"Your response (h/l/c): \").lower()\n",
        "\n",
        "        if user_feedback == 'h':\n",
        "            upper_bound = guess - 1\n",
        "        elif user_feedback == 'l':\n",
        "            lower_bound = guess + 1\n",
        "        elif user_feedback == 'c':\n",
        "            print(f\"Yay! The computer guessed your number {guess} in {attempts} attempts.\")\n",
        "            break\n",
        "        else:\n",
        "            print(\"Invalid input! Please enter 'h', 'l', or 'c'.\")\n",
        "\n",
        "        if lower_bound > upper_bound:\n",
        "            print(\"Something went wrong! Make sure you are giving correct hints.\")\n",
        "            break\n",
        "\n",
        "if __name__ == \"__main__\":\n",
        "    computer_guess()\n"
      ],
      "metadata": {
        "colab": {
          "base_uri": "https://localhost:8080/"
        },
        "id": "EP1ALEH5uca-",
        "outputId": "96ca38ed-867e-43cd-ef16-bb3b6d87e4fd"
      },
      "execution_count": 3,
      "outputs": [
        {
          "output_type": "stream",
          "name": "stdout",
          "text": [
            "Welcome to the Computer Guess the Number Game!\n",
            "Enter the lower bound: 10\n",
            "Enter the upper bound: 50\n",
            "Is it 30? (Enter 'h' if too high, 'l' if too low, 'c' if correct)\n",
            "Your response (h/l/c): h\n",
            "Is it 12? (Enter 'h' if too high, 'l' if too low, 'c' if correct)\n",
            "Your response (h/l/c): l\n",
            "Is it 14? (Enter 'h' if too high, 'l' if too low, 'c' if correct)\n",
            "Your response (h/l/c): c\n",
            "Yay! The computer guessed your number 14 in 3 attempts.\n"
          ]
        }
      ]
    }
  ]
}